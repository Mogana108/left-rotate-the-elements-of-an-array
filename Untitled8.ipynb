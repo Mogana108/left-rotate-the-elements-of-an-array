{
  "nbformat": 4,
  "nbformat_minor": 0,
  "metadata": {
    "colab": {
      "name": "Untitled8.ipynb",
      "provenance": []
    },
    "kernelspec": {
      "name": "python3",
      "display_name": "Python 3"
    },
    "language_info": {
      "name": "python"
    }
  },
  "cells": [
    {
      "cell_type": "code",
      "execution_count": 1,
      "metadata": {
        "colab": {
          "base_uri": "https://localhost:8080/"
        },
        "id": "dImRl30cV1uL",
        "outputId": "a89903ac-141e-4b0a-bba7-328954f704a2"
      },
      "outputs": [
        {
          "output_type": "stream",
          "name": "stdout",
          "text": [
            "Original array: \n",
            "1\n",
            "2\n",
            "3\n",
            "4\n",
            "5\n",
            "\n",
            "Array after left rotation: \n",
            "4\n",
            "5\n",
            "1\n",
            "2\n",
            "3\n"
          ]
        }
      ],
      "source": [
        "#Initialize array     \n",
        "arr = [1, 2, 3, 4, 5];     \n",
        "#n determine the number of times an array should be rotated    \n",
        "n = 3;    \n",
        "     \n",
        "#Displays original array    \n",
        "print(\"Original array: \");    \n",
        "for i in range(0, len(arr)):    \n",
        "    print(arr[i]),     \n",
        "     \n",
        "#Rotate the given array by n times toward left    \n",
        "for i in range(0, n):    \n",
        "    #Stores the first element of the array    \n",
        "    first = arr[0];    \n",
        "        \n",
        "    for j in range(0, len(arr)-1):    \n",
        "        #Shift element of array by one    \n",
        "        arr[j] = arr[j+1];    \n",
        "            \n",
        "    #First element of array will be added to the end    \n",
        "    arr[len(arr)-1] = first;    \n",
        "     \n",
        "print();    \n",
        "     \n",
        "#Displays resulting array after rotation    \n",
        "print(\"Array after left rotation: \");    \n",
        "for i in range(0, len(arr)):    \n",
        "    print(arr[i]),   "
      ]
    }
  ]
}